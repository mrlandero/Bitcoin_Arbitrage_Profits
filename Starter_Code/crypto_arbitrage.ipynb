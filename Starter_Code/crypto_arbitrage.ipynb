{
 "cells": [
  {
   "cell_type": "markdown",
   "metadata": {},
   "source": [
    "## Crypto Arbitrage\n",
    "\n",
    "In this Challenge, you'll take on the role of an analyst at a high-tech investment firm. The vice president (VP) of your department is considering arbitrage opportunities in Bitcoin and other cryptocurrencies. As Bitcoin trades on markets across the globe, can you capitalize on simultaneous price dislocations in those markets by using the powers of Pandas?\n",
    "\n",
    "For this assignment, you’ll sort through historical trade data for Bitcoin on two exchanges: Bitstamp and Coinbase. Your task is to apply the three phases of financial analysis to determine if any arbitrage opportunities exist for Bitcoin.\n",
    "\n",
    "This aspect of the Challenge will consist of 3 phases.\n",
    "\n",
    "1. Collect the data.\n",
    "\n",
    "2. Prepare the data.\n",
    "\n",
    "3. Analyze the data. \n",
    "\n"
   ]
  },
  {
   "cell_type": "markdown",
   "metadata": {},
   "source": [
    "###  Import the required libraries and dependencies."
   ]
  },
  {
   "cell_type": "code",
   "execution_count": 1,
   "metadata": {},
   "outputs": [],
   "source": [
    "import pandas as pd\n",
    "from pathlib import Path\n",
    "%matplotlib inline"
   ]
  },
  {
   "cell_type": "markdown",
   "metadata": {},
   "source": [
    "## Collect the Data\n",
    "\n",
    "To collect the data that you’ll need, complete the following steps:\n",
    "\n",
    "Instructions. \n",
    "\n",
    "1. Using the Pandas `read_csv` function and the `Path` module, import the data from `bitstamp.csv` file, and create a DataFrame called `bitstamp`. Set the DatetimeIndex as the Timestamp column, and be sure to parse and format the dates.\n",
    "\n",
    "2. Use the `head` (and/or the `tail`) function to confirm that Pandas properly imported the data.\n",
    "\n",
    "3. Repeat Steps 1 and 2 for `coinbase.csv` file."
   ]
  },
  {
   "cell_type": "markdown",
   "metadata": {},
   "source": [
    "### Step 1: Using the Pandas `read_csv` function and the `Path` module, import the data from `bitstamp.csv` file, and create a DataFrame called `bitstamp`. Set the DatetimeIndex as the Timestamp column, and be sure to parse and format the dates."
   ]
  },
  {
   "cell_type": "code",
   "execution_count": 2,
   "metadata": {},
   "outputs": [],
   "source": [
    "# Read in the CSV file called \"bitstamp.csv\" using the Path module. \n",
    "# The CSV file is located in the Resources folder.\n",
    "# Set the index to the column \"Date\"\n",
    "# Set the parse_dates and infer_datetime_format parameters\n",
    "bitstamp = pd.read_csv(\n",
    "    Path(\"./Resources/bitstamp.csv\"),\n",
    "    index_col = \"Timestamp\",\n",
    "    parse_dates =True,\n",
    "    infer_datetime_format =True\n",
    ")\n"
   ]
  },
  {
   "cell_type": "markdown",
   "metadata": {},
   "source": [
    "### Step 2: Use the `head` (and/or the `tail`) function to confirm that Pandas properly imported the data."
   ]
  },
  {
   "cell_type": "code",
   "execution_count": 3,
   "metadata": {},
   "outputs": [
    {
     "data": {
      "text/html": [
       "<div>\n",
       "<style scoped>\n",
       "    .dataframe tbody tr th:only-of-type {\n",
       "        vertical-align: middle;\n",
       "    }\n",
       "\n",
       "    .dataframe tbody tr th {\n",
       "        vertical-align: top;\n",
       "    }\n",
       "\n",
       "    .dataframe thead th {\n",
       "        text-align: right;\n",
       "    }\n",
       "</style>\n",
       "<table border=\"1\" class=\"dataframe\">\n",
       "  <thead>\n",
       "    <tr style=\"text-align: right;\">\n",
       "      <th></th>\n",
       "      <th>Open</th>\n",
       "      <th>High</th>\n",
       "      <th>Low</th>\n",
       "      <th>Close</th>\n",
       "      <th>BTC Volume</th>\n",
       "      <th>USD Volume</th>\n",
       "      <th>Weighted Price</th>\n",
       "    </tr>\n",
       "    <tr>\n",
       "      <th>Timestamp</th>\n",
       "      <th></th>\n",
       "      <th></th>\n",
       "      <th></th>\n",
       "      <th></th>\n",
       "      <th></th>\n",
       "      <th></th>\n",
       "      <th></th>\n",
       "    </tr>\n",
       "  </thead>\n",
       "  <tbody>\n",
       "    <tr>\n",
       "      <th>2018-01-01 00:00:00</th>\n",
       "      <td>13681.04</td>\n",
       "      <td>13681.04</td>\n",
       "      <td>13637.93</td>\n",
       "      <td>$13646.48</td>\n",
       "      <td>3.334553</td>\n",
       "      <td>45482.128785</td>\n",
       "      <td>13639.647479</td>\n",
       "    </tr>\n",
       "    <tr>\n",
       "      <th>2018-01-01 00:01:00</th>\n",
       "      <td>13646.48</td>\n",
       "      <td>13658.75</td>\n",
       "      <td>13610.18</td>\n",
       "      <td>$13658.75</td>\n",
       "      <td>2.663188</td>\n",
       "      <td>36361.390888</td>\n",
       "      <td>13653.332816</td>\n",
       "    </tr>\n",
       "    <tr>\n",
       "      <th>2018-01-01 00:02:00</th>\n",
       "      <td>13616.93</td>\n",
       "      <td>13616.93</td>\n",
       "      <td>13610.06</td>\n",
       "      <td>$13610.22</td>\n",
       "      <td>0.084653</td>\n",
       "      <td>1152.144036</td>\n",
       "      <td>13610.136247</td>\n",
       "    </tr>\n",
       "    <tr>\n",
       "      <th>2018-01-01 00:03:00</th>\n",
       "      <td>13610.27</td>\n",
       "      <td>13639.09</td>\n",
       "      <td>13610.27</td>\n",
       "      <td>$13639.09</td>\n",
       "      <td>7.182986</td>\n",
       "      <td>97856.416478</td>\n",
       "      <td>13623.361128</td>\n",
       "    </tr>\n",
       "    <tr>\n",
       "      <th>2018-01-01 00:04:00</th>\n",
       "      <td>13635.35</td>\n",
       "      <td>13636.35</td>\n",
       "      <td>13620.00</td>\n",
       "      <td>$13620.0</td>\n",
       "      <td>1.069665</td>\n",
       "      <td>14582.660932</td>\n",
       "      <td>13632.923329</td>\n",
       "    </tr>\n",
       "  </tbody>\n",
       "</table>\n",
       "</div>"
      ],
      "text/plain": [
       "                         Open      High       Low      Close  BTC Volume  \\\n",
       "Timestamp                                                                  \n",
       "2018-01-01 00:00:00  13681.04  13681.04  13637.93  $13646.48    3.334553   \n",
       "2018-01-01 00:01:00  13646.48  13658.75  13610.18  $13658.75    2.663188   \n",
       "2018-01-01 00:02:00  13616.93  13616.93  13610.06  $13610.22    0.084653   \n",
       "2018-01-01 00:03:00  13610.27  13639.09  13610.27  $13639.09    7.182986   \n",
       "2018-01-01 00:04:00  13635.35  13636.35  13620.00   $13620.0    1.069665   \n",
       "\n",
       "                       USD Volume  Weighted Price  \n",
       "Timestamp                                          \n",
       "2018-01-01 00:00:00  45482.128785    13639.647479  \n",
       "2018-01-01 00:01:00  36361.390888    13653.332816  \n",
       "2018-01-01 00:02:00   1152.144036    13610.136247  \n",
       "2018-01-01 00:03:00  97856.416478    13623.361128  \n",
       "2018-01-01 00:04:00  14582.660932    13632.923329  "
      ]
     },
     "execution_count": 3,
     "metadata": {},
     "output_type": "execute_result"
    }
   ],
   "source": [
    "# Use the head (and/or tail) function to confirm that the data was imported properly.\n",
    "bitstamp.head()"
   ]
  },
  {
   "cell_type": "markdown",
   "metadata": {},
   "source": [
    "### Step 3: Repeat Steps 1 and 2 for `coinbase.csv` file."
   ]
  },
  {
   "cell_type": "code",
   "execution_count": 4,
   "metadata": {},
   "outputs": [],
   "source": [
    "# Read in the CSV file called \"coinbase.csv\" using the Path module. \n",
    "# The CSV file is located in the Resources folder.\n",
    "# Set the index to the column \"Timestamp\"\n",
    "# Set the parse_dates and infer_datetime_format parameters\n",
    "coinbase = pd.read_csv(\n",
    "    Path(\"./Resources/coinbase.csv\"),\n",
    "    index_col = \"Timestamp\",\n",
    "    parse_dates =True,\n",
    "    infer_datetime_format =True\n",
    ")"
   ]
  },
  {
   "cell_type": "code",
   "execution_count": 5,
   "metadata": {},
   "outputs": [
    {
     "data": {
      "text/html": [
       "<div>\n",
       "<style scoped>\n",
       "    .dataframe tbody tr th:only-of-type {\n",
       "        vertical-align: middle;\n",
       "    }\n",
       "\n",
       "    .dataframe tbody tr th {\n",
       "        vertical-align: top;\n",
       "    }\n",
       "\n",
       "    .dataframe thead th {\n",
       "        text-align: right;\n",
       "    }\n",
       "</style>\n",
       "<table border=\"1\" class=\"dataframe\">\n",
       "  <thead>\n",
       "    <tr style=\"text-align: right;\">\n",
       "      <th></th>\n",
       "      <th>Open</th>\n",
       "      <th>High</th>\n",
       "      <th>Low</th>\n",
       "      <th>Close</th>\n",
       "      <th>BTC Volume</th>\n",
       "      <th>USD Volume</th>\n",
       "      <th>Weighted Price</th>\n",
       "    </tr>\n",
       "    <tr>\n",
       "      <th>Timestamp</th>\n",
       "      <th></th>\n",
       "      <th></th>\n",
       "      <th></th>\n",
       "      <th></th>\n",
       "      <th></th>\n",
       "      <th></th>\n",
       "      <th></th>\n",
       "    </tr>\n",
       "  </thead>\n",
       "  <tbody>\n",
       "    <tr>\n",
       "      <th>2018-01-01 00:00:00</th>\n",
       "      <td>13620.00</td>\n",
       "      <td>13620.00</td>\n",
       "      <td>13608.49</td>\n",
       "      <td>$13608.49</td>\n",
       "      <td>20.812754</td>\n",
       "      <td>283451.08537</td>\n",
       "      <td>13619.105106</td>\n",
       "    </tr>\n",
       "    <tr>\n",
       "      <th>2018-01-01 00:01:00</th>\n",
       "      <td>13607.14</td>\n",
       "      <td>13607.14</td>\n",
       "      <td>13601.66</td>\n",
       "      <td>$13601.66</td>\n",
       "      <td>13.474359</td>\n",
       "      <td>183283.97801</td>\n",
       "      <td>13602.426919</td>\n",
       "    </tr>\n",
       "    <tr>\n",
       "      <th>2018-01-01 00:02:00</th>\n",
       "      <td>13601.44</td>\n",
       "      <td>13601.44</td>\n",
       "      <td>13580.00</td>\n",
       "      <td>$13580.0</td>\n",
       "      <td>11.536360</td>\n",
       "      <td>156789.19686</td>\n",
       "      <td>13590.872506</td>\n",
       "    </tr>\n",
       "    <tr>\n",
       "      <th>2018-01-01 00:03:00</th>\n",
       "      <td>13587.31</td>\n",
       "      <td>13587.31</td>\n",
       "      <td>13542.70</td>\n",
       "      <td>$13550.34</td>\n",
       "      <td>16.328039</td>\n",
       "      <td>221413.64182</td>\n",
       "      <td>13560.332806</td>\n",
       "    </tr>\n",
       "    <tr>\n",
       "      <th>2018-01-01 00:04:00</th>\n",
       "      <td>13550.34</td>\n",
       "      <td>13585.95</td>\n",
       "      <td>13550.34</td>\n",
       "      <td>$13583.44</td>\n",
       "      <td>9.955364</td>\n",
       "      <td>135141.26944</td>\n",
       "      <td>13574.719401</td>\n",
       "    </tr>\n",
       "  </tbody>\n",
       "</table>\n",
       "</div>"
      ],
      "text/plain": [
       "                         Open      High       Low      Close  BTC Volume  \\\n",
       "Timestamp                                                                  \n",
       "2018-01-01 00:00:00  13620.00  13620.00  13608.49  $13608.49   20.812754   \n",
       "2018-01-01 00:01:00  13607.14  13607.14  13601.66  $13601.66   13.474359   \n",
       "2018-01-01 00:02:00  13601.44  13601.44  13580.00   $13580.0   11.536360   \n",
       "2018-01-01 00:03:00  13587.31  13587.31  13542.70  $13550.34   16.328039   \n",
       "2018-01-01 00:04:00  13550.34  13585.95  13550.34  $13583.44    9.955364   \n",
       "\n",
       "                       USD Volume  Weighted Price  \n",
       "Timestamp                                          \n",
       "2018-01-01 00:00:00  283451.08537    13619.105106  \n",
       "2018-01-01 00:01:00  183283.97801    13602.426919  \n",
       "2018-01-01 00:02:00  156789.19686    13590.872506  \n",
       "2018-01-01 00:03:00  221413.64182    13560.332806  \n",
       "2018-01-01 00:04:00  135141.26944    13574.719401  "
      ]
     },
     "execution_count": 5,
     "metadata": {},
     "output_type": "execute_result"
    }
   ],
   "source": [
    "# Use the head (and/or tail) function to confirm that the data was imported properly.\n",
    "coinbase.head()"
   ]
  },
  {
   "cell_type": "markdown",
   "metadata": {},
   "source": [
    "## Prepare the Data\n",
    "\n",
    "To prepare and clean your data for analysis, complete the following steps:\n",
    "\n",
    "1. For the bitstamp DataFrame, replace or drop all `NaN`, or missing, values in the DataFrame.\n",
    "\n",
    "2. Use the `str.replace` function to remove the dollar signs ($) from the values in the Close column.\n",
    "\n",
    "3. Convert the data type of the Close column to a `float`.\n",
    "\n",
    "4. Review the data for duplicated values, and drop them if necessary.\n",
    "\n",
    "5. Repeat Steps 1–4 for the coinbase DataFrame."
   ]
  },
  {
   "cell_type": "markdown",
   "metadata": {},
   "source": [
    "### Step 1: For the bitstamp DataFrame, replace or drop all `NaN`, or missing, values in the DataFrame."
   ]
  },
  {
   "cell_type": "code",
   "execution_count": 6,
   "metadata": {},
   "outputs": [
    {
     "data": {
      "text/html": [
       "<div>\n",
       "<style scoped>\n",
       "    .dataframe tbody tr th:only-of-type {\n",
       "        vertical-align: middle;\n",
       "    }\n",
       "\n",
       "    .dataframe tbody tr th {\n",
       "        vertical-align: top;\n",
       "    }\n",
       "\n",
       "    .dataframe thead th {\n",
       "        text-align: right;\n",
       "    }\n",
       "</style>\n",
       "<table border=\"1\" class=\"dataframe\">\n",
       "  <thead>\n",
       "    <tr style=\"text-align: right;\">\n",
       "      <th></th>\n",
       "      <th>Open</th>\n",
       "      <th>High</th>\n",
       "      <th>Low</th>\n",
       "      <th>Close</th>\n",
       "      <th>BTC Volume</th>\n",
       "      <th>USD Volume</th>\n",
       "      <th>Weighted Price</th>\n",
       "    </tr>\n",
       "    <tr>\n",
       "      <th>Timestamp</th>\n",
       "      <th></th>\n",
       "      <th></th>\n",
       "      <th></th>\n",
       "      <th></th>\n",
       "      <th></th>\n",
       "      <th></th>\n",
       "      <th></th>\n",
       "    </tr>\n",
       "  </thead>\n",
       "  <tbody>\n",
       "    <tr>\n",
       "      <th>2018-01-01 00:00:00</th>\n",
       "      <td>13681.04</td>\n",
       "      <td>13681.04</td>\n",
       "      <td>13637.93</td>\n",
       "      <td>$13646.48</td>\n",
       "      <td>3.334553</td>\n",
       "      <td>45482.128785</td>\n",
       "      <td>13639.647479</td>\n",
       "    </tr>\n",
       "    <tr>\n",
       "      <th>2018-01-01 00:01:00</th>\n",
       "      <td>13646.48</td>\n",
       "      <td>13658.75</td>\n",
       "      <td>13610.18</td>\n",
       "      <td>$13658.75</td>\n",
       "      <td>2.663188</td>\n",
       "      <td>36361.390888</td>\n",
       "      <td>13653.332816</td>\n",
       "    </tr>\n",
       "    <tr>\n",
       "      <th>2018-01-01 00:02:00</th>\n",
       "      <td>13616.93</td>\n",
       "      <td>13616.93</td>\n",
       "      <td>13610.06</td>\n",
       "      <td>$13610.22</td>\n",
       "      <td>0.084653</td>\n",
       "      <td>1152.144036</td>\n",
       "      <td>13610.136247</td>\n",
       "    </tr>\n",
       "    <tr>\n",
       "      <th>2018-01-01 00:03:00</th>\n",
       "      <td>13610.27</td>\n",
       "      <td>13639.09</td>\n",
       "      <td>13610.27</td>\n",
       "      <td>$13639.09</td>\n",
       "      <td>7.182986</td>\n",
       "      <td>97856.416478</td>\n",
       "      <td>13623.361128</td>\n",
       "    </tr>\n",
       "    <tr>\n",
       "      <th>2018-01-01 00:04:00</th>\n",
       "      <td>13635.35</td>\n",
       "      <td>13636.35</td>\n",
       "      <td>13620.00</td>\n",
       "      <td>$13620.0</td>\n",
       "      <td>1.069665</td>\n",
       "      <td>14582.660932</td>\n",
       "      <td>13632.923329</td>\n",
       "    </tr>\n",
       "    <tr>\n",
       "      <th>...</th>\n",
       "      <td>...</td>\n",
       "      <td>...</td>\n",
       "      <td>...</td>\n",
       "      <td>...</td>\n",
       "      <td>...</td>\n",
       "      <td>...</td>\n",
       "      <td>...</td>\n",
       "    </tr>\n",
       "    <tr>\n",
       "      <th>2018-03-31 23:55:00</th>\n",
       "      <td>6935.01</td>\n",
       "      <td>6939.07</td>\n",
       "      <td>6922.56</td>\n",
       "      <td>$6922.56</td>\n",
       "      <td>1.044354</td>\n",
       "      <td>7240.034602</td>\n",
       "      <td>6932.550078</td>\n",
       "    </tr>\n",
       "    <tr>\n",
       "      <th>2018-03-31 23:56:00</th>\n",
       "      <td>6922.02</td>\n",
       "      <td>6922.02</td>\n",
       "      <td>6918.00</td>\n",
       "      <td>$6920.32</td>\n",
       "      <td>3.069539</td>\n",
       "      <td>21245.076275</td>\n",
       "      <td>6921.260233</td>\n",
       "    </tr>\n",
       "    <tr>\n",
       "      <th>2018-03-31 23:57:00</th>\n",
       "      <td>6920.33</td>\n",
       "      <td>6936.42</td>\n",
       "      <td>6920.33</td>\n",
       "      <td>$6934.72</td>\n",
       "      <td>28.239049</td>\n",
       "      <td>195789.408220</td>\n",
       "      <td>6933.286106</td>\n",
       "    </tr>\n",
       "    <tr>\n",
       "      <th>2018-03-31 23:58:00</th>\n",
       "      <td>6927.65</td>\n",
       "      <td>6929.42</td>\n",
       "      <td>6927.65</td>\n",
       "      <td>$6927.65</td>\n",
       "      <td>0.839507</td>\n",
       "      <td>5817.007705</td>\n",
       "      <td>6929.080007</td>\n",
       "    </tr>\n",
       "    <tr>\n",
       "      <th>2018-03-31 23:59:00</th>\n",
       "      <td>6929.98</td>\n",
       "      <td>6929.98</td>\n",
       "      <td>6928.00</td>\n",
       "      <td>$6928.01</td>\n",
       "      <td>0.209363</td>\n",
       "      <td>1450.735763</td>\n",
       "      <td>6929.289993</td>\n",
       "    </tr>\n",
       "  </tbody>\n",
       "</table>\n",
       "<p>129067 rows × 7 columns</p>\n",
       "</div>"
      ],
      "text/plain": [
       "                         Open      High       Low      Close  BTC Volume  \\\n",
       "Timestamp                                                                  \n",
       "2018-01-01 00:00:00  13681.04  13681.04  13637.93  $13646.48    3.334553   \n",
       "2018-01-01 00:01:00  13646.48  13658.75  13610.18  $13658.75    2.663188   \n",
       "2018-01-01 00:02:00  13616.93  13616.93  13610.06  $13610.22    0.084653   \n",
       "2018-01-01 00:03:00  13610.27  13639.09  13610.27  $13639.09    7.182986   \n",
       "2018-01-01 00:04:00  13635.35  13636.35  13620.00   $13620.0    1.069665   \n",
       "...                       ...       ...       ...        ...         ...   \n",
       "2018-03-31 23:55:00   6935.01   6939.07   6922.56   $6922.56    1.044354   \n",
       "2018-03-31 23:56:00   6922.02   6922.02   6918.00   $6920.32    3.069539   \n",
       "2018-03-31 23:57:00   6920.33   6936.42   6920.33   $6934.72   28.239049   \n",
       "2018-03-31 23:58:00   6927.65   6929.42   6927.65   $6927.65    0.839507   \n",
       "2018-03-31 23:59:00   6929.98   6929.98   6928.00   $6928.01    0.209363   \n",
       "\n",
       "                        USD Volume  Weighted Price  \n",
       "Timestamp                                           \n",
       "2018-01-01 00:00:00   45482.128785    13639.647479  \n",
       "2018-01-01 00:01:00   36361.390888    13653.332816  \n",
       "2018-01-01 00:02:00    1152.144036    13610.136247  \n",
       "2018-01-01 00:03:00   97856.416478    13623.361128  \n",
       "2018-01-01 00:04:00   14582.660932    13632.923329  \n",
       "...                            ...             ...  \n",
       "2018-03-31 23:55:00    7240.034602     6932.550078  \n",
       "2018-03-31 23:56:00   21245.076275     6921.260233  \n",
       "2018-03-31 23:57:00  195789.408220     6933.286106  \n",
       "2018-03-31 23:58:00    5817.007705     6929.080007  \n",
       "2018-03-31 23:59:00    1450.735763     6929.289993  \n",
       "\n",
       "[129067 rows x 7 columns]"
      ]
     },
     "execution_count": 6,
     "metadata": {},
     "output_type": "execute_result"
    }
   ],
   "source": [
    "# For the bitstamp DataFrame, replace or drop all NaNs or missing values in the DataFrame\n",
    "bitstamp = bitstamp.dropna()\n",
    "bitstamp.isnull().sum()\n",
    "bitstamp"
   ]
  },
  {
   "cell_type": "markdown",
   "metadata": {},
   "source": [
    "### Step 2: Use the `str.replace` function to remove the dollar signs ($) from the values in the Close column."
   ]
  },
  {
   "cell_type": "code",
   "execution_count": 7,
   "metadata": {},
   "outputs": [
    {
     "name": "stderr",
     "output_type": "stream",
     "text": [
      "C:\\Users\\Tony Landero\\anaconda3\\envs\\dev\\lib\\site-packages\\ipykernel_launcher.py:2: FutureWarning: The default value of regex will change from True to False in a future version. In addition, single character regular expressions will*not* be treated as literal strings when regex=True.\n",
      "  \n"
     ]
    },
    {
     "data": {
      "text/html": [
       "<div>\n",
       "<style scoped>\n",
       "    .dataframe tbody tr th:only-of-type {\n",
       "        vertical-align: middle;\n",
       "    }\n",
       "\n",
       "    .dataframe tbody tr th {\n",
       "        vertical-align: top;\n",
       "    }\n",
       "\n",
       "    .dataframe thead th {\n",
       "        text-align: right;\n",
       "    }\n",
       "</style>\n",
       "<table border=\"1\" class=\"dataframe\">\n",
       "  <thead>\n",
       "    <tr style=\"text-align: right;\">\n",
       "      <th></th>\n",
       "      <th>Open</th>\n",
       "      <th>High</th>\n",
       "      <th>Low</th>\n",
       "      <th>Close</th>\n",
       "      <th>BTC Volume</th>\n",
       "      <th>USD Volume</th>\n",
       "      <th>Weighted Price</th>\n",
       "    </tr>\n",
       "    <tr>\n",
       "      <th>Timestamp</th>\n",
       "      <th></th>\n",
       "      <th></th>\n",
       "      <th></th>\n",
       "      <th></th>\n",
       "      <th></th>\n",
       "      <th></th>\n",
       "      <th></th>\n",
       "    </tr>\n",
       "  </thead>\n",
       "  <tbody>\n",
       "    <tr>\n",
       "      <th>2018-01-01 00:00:00</th>\n",
       "      <td>13681.04</td>\n",
       "      <td>13681.04</td>\n",
       "      <td>13637.93</td>\n",
       "      <td>13646.48</td>\n",
       "      <td>3.334553</td>\n",
       "      <td>45482.128785</td>\n",
       "      <td>13639.647479</td>\n",
       "    </tr>\n",
       "    <tr>\n",
       "      <th>2018-01-01 00:01:00</th>\n",
       "      <td>13646.48</td>\n",
       "      <td>13658.75</td>\n",
       "      <td>13610.18</td>\n",
       "      <td>13658.75</td>\n",
       "      <td>2.663188</td>\n",
       "      <td>36361.390888</td>\n",
       "      <td>13653.332816</td>\n",
       "    </tr>\n",
       "    <tr>\n",
       "      <th>2018-01-01 00:02:00</th>\n",
       "      <td>13616.93</td>\n",
       "      <td>13616.93</td>\n",
       "      <td>13610.06</td>\n",
       "      <td>13610.22</td>\n",
       "      <td>0.084653</td>\n",
       "      <td>1152.144036</td>\n",
       "      <td>13610.136247</td>\n",
       "    </tr>\n",
       "    <tr>\n",
       "      <th>2018-01-01 00:03:00</th>\n",
       "      <td>13610.27</td>\n",
       "      <td>13639.09</td>\n",
       "      <td>13610.27</td>\n",
       "      <td>13639.09</td>\n",
       "      <td>7.182986</td>\n",
       "      <td>97856.416478</td>\n",
       "      <td>13623.361128</td>\n",
       "    </tr>\n",
       "    <tr>\n",
       "      <th>2018-01-01 00:04:00</th>\n",
       "      <td>13635.35</td>\n",
       "      <td>13636.35</td>\n",
       "      <td>13620.00</td>\n",
       "      <td>13620.0</td>\n",
       "      <td>1.069665</td>\n",
       "      <td>14582.660932</td>\n",
       "      <td>13632.923329</td>\n",
       "    </tr>\n",
       "  </tbody>\n",
       "</table>\n",
       "</div>"
      ],
      "text/plain": [
       "                         Open      High       Low     Close  BTC Volume  \\\n",
       "Timestamp                                                                 \n",
       "2018-01-01 00:00:00  13681.04  13681.04  13637.93  13646.48    3.334553   \n",
       "2018-01-01 00:01:00  13646.48  13658.75  13610.18  13658.75    2.663188   \n",
       "2018-01-01 00:02:00  13616.93  13616.93  13610.06  13610.22    0.084653   \n",
       "2018-01-01 00:03:00  13610.27  13639.09  13610.27  13639.09    7.182986   \n",
       "2018-01-01 00:04:00  13635.35  13636.35  13620.00   13620.0    1.069665   \n",
       "\n",
       "                       USD Volume  Weighted Price  \n",
       "Timestamp                                          \n",
       "2018-01-01 00:00:00  45482.128785    13639.647479  \n",
       "2018-01-01 00:01:00  36361.390888    13653.332816  \n",
       "2018-01-01 00:02:00   1152.144036    13610.136247  \n",
       "2018-01-01 00:03:00  97856.416478    13623.361128  \n",
       "2018-01-01 00:04:00  14582.660932    13632.923329  "
      ]
     },
     "execution_count": 7,
     "metadata": {},
     "output_type": "execute_result"
    }
   ],
   "source": [
    "# Use the str.replace function to remove the dollar sign, $\n",
    "bitstamp.loc[:, \"Close\"] = bitstamp.loc[:, \"Close\"].str.replace(\"$\", \"\")\n",
    "bitstamp.head()"
   ]
  },
  {
   "cell_type": "markdown",
   "metadata": {},
   "source": [
    "### Step 3: Convert the data type of the Close column to a `float`."
   ]
  },
  {
   "cell_type": "code",
   "execution_count": 8,
   "metadata": {},
   "outputs": [
    {
     "data": {
      "text/plain": [
       "dtype('float64')"
      ]
     },
     "execution_count": 8,
     "metadata": {},
     "output_type": "execute_result"
    }
   ],
   "source": [
    "# Convert the Close data type to a float\n",
    "bitstamp.loc[:, \"Close\"] = bitstamp.loc[:, \"Close\"].astype(\"float\")\n",
    "bitstamp.loc[:, \"Close\"].dtypes"
   ]
  },
  {
   "cell_type": "markdown",
   "metadata": {},
   "source": [
    "### Step 4: Review the data for duplicated values, and drop them if necessary."
   ]
  },
  {
   "cell_type": "code",
   "execution_count": 9,
   "metadata": {},
   "outputs": [
    {
     "data": {
      "text/plain": [
       "31341"
      ]
     },
     "execution_count": 9,
     "metadata": {},
     "output_type": "execute_result"
    }
   ],
   "source": [
    "# Review the data for duplicate values, and drop them if necessary\n",
    "bitstamp.loc[:, \"Close\"].duplicated().sum()"
   ]
  },
  {
   "cell_type": "markdown",
   "metadata": {},
   "source": [
    "### Step 5: Repeat Steps 1–4 for the coinbase DataFrame."
   ]
  },
  {
   "cell_type": "code",
   "execution_count": 10,
   "metadata": {},
   "outputs": [
    {
     "data": {
      "text/plain": [
       "Open              218\n",
       "High              218\n",
       "Low               218\n",
       "Close               0\n",
       "BTC Volume        218\n",
       "USD Volume        218\n",
       "Weighted Price    218\n",
       "dtype: int64"
      ]
     },
     "execution_count": 10,
     "metadata": {},
     "output_type": "execute_result"
    }
   ],
   "source": [
    "# Repeat Steps 1–4 for the coinbase DataFrame\n",
    "# Check for missing values \n",
    "coinbase.isnull().sum()"
   ]
  },
  {
   "cell_type": "code",
   "execution_count": 11,
   "metadata": {},
   "outputs": [
    {
     "data": {
      "text/plain": [
       "Open              0\n",
       "High              0\n",
       "Low               0\n",
       "Close             0\n",
       "BTC Volume        0\n",
       "USD Volume        0\n",
       "Weighted Price    0\n",
       "dtype: int64"
      ]
     },
     "execution_count": 11,
     "metadata": {},
     "output_type": "execute_result"
    }
   ],
   "source": [
    "# Drop those missing values from the dataframe\n",
    "coinbase = coinbase.dropna()\n",
    "# Test if we have no more missing values\n",
    "coinbase.isnull().sum()"
   ]
  },
  {
   "cell_type": "code",
   "execution_count": 12,
   "metadata": {},
   "outputs": [
    {
     "name": "stderr",
     "output_type": "stream",
     "text": [
      "C:\\Users\\Tony Landero\\anaconda3\\envs\\dev\\lib\\site-packages\\ipykernel_launcher.py:2: FutureWarning: The default value of regex will change from True to False in a future version. In addition, single character regular expressions will*not* be treated as literal strings when regex=True.\n",
      "  \n"
     ]
    },
    {
     "data": {
      "text/html": [
       "<div>\n",
       "<style scoped>\n",
       "    .dataframe tbody tr th:only-of-type {\n",
       "        vertical-align: middle;\n",
       "    }\n",
       "\n",
       "    .dataframe tbody tr th {\n",
       "        vertical-align: top;\n",
       "    }\n",
       "\n",
       "    .dataframe thead th {\n",
       "        text-align: right;\n",
       "    }\n",
       "</style>\n",
       "<table border=\"1\" class=\"dataframe\">\n",
       "  <thead>\n",
       "    <tr style=\"text-align: right;\">\n",
       "      <th></th>\n",
       "      <th>Open</th>\n",
       "      <th>High</th>\n",
       "      <th>Low</th>\n",
       "      <th>Close</th>\n",
       "      <th>BTC Volume</th>\n",
       "      <th>USD Volume</th>\n",
       "      <th>Weighted Price</th>\n",
       "    </tr>\n",
       "    <tr>\n",
       "      <th>Timestamp</th>\n",
       "      <th></th>\n",
       "      <th></th>\n",
       "      <th></th>\n",
       "      <th></th>\n",
       "      <th></th>\n",
       "      <th></th>\n",
       "      <th></th>\n",
       "    </tr>\n",
       "  </thead>\n",
       "  <tbody>\n",
       "    <tr>\n",
       "      <th>2018-01-01 00:00:00</th>\n",
       "      <td>13620.00</td>\n",
       "      <td>13620.00</td>\n",
       "      <td>13608.49</td>\n",
       "      <td>13608.49</td>\n",
       "      <td>20.812754</td>\n",
       "      <td>283451.08537</td>\n",
       "      <td>13619.105106</td>\n",
       "    </tr>\n",
       "    <tr>\n",
       "      <th>2018-01-01 00:01:00</th>\n",
       "      <td>13607.14</td>\n",
       "      <td>13607.14</td>\n",
       "      <td>13601.66</td>\n",
       "      <td>13601.66</td>\n",
       "      <td>13.474359</td>\n",
       "      <td>183283.97801</td>\n",
       "      <td>13602.426919</td>\n",
       "    </tr>\n",
       "    <tr>\n",
       "      <th>2018-01-01 00:02:00</th>\n",
       "      <td>13601.44</td>\n",
       "      <td>13601.44</td>\n",
       "      <td>13580.00</td>\n",
       "      <td>13580.0</td>\n",
       "      <td>11.536360</td>\n",
       "      <td>156789.19686</td>\n",
       "      <td>13590.872506</td>\n",
       "    </tr>\n",
       "    <tr>\n",
       "      <th>2018-01-01 00:03:00</th>\n",
       "      <td>13587.31</td>\n",
       "      <td>13587.31</td>\n",
       "      <td>13542.70</td>\n",
       "      <td>13550.34</td>\n",
       "      <td>16.328039</td>\n",
       "      <td>221413.64182</td>\n",
       "      <td>13560.332806</td>\n",
       "    </tr>\n",
       "    <tr>\n",
       "      <th>2018-01-01 00:04:00</th>\n",
       "      <td>13550.34</td>\n",
       "      <td>13585.95</td>\n",
       "      <td>13550.34</td>\n",
       "      <td>13583.44</td>\n",
       "      <td>9.955364</td>\n",
       "      <td>135141.26944</td>\n",
       "      <td>13574.719401</td>\n",
       "    </tr>\n",
       "  </tbody>\n",
       "</table>\n",
       "</div>"
      ],
      "text/plain": [
       "                         Open      High       Low     Close  BTC Volume  \\\n",
       "Timestamp                                                                 \n",
       "2018-01-01 00:00:00  13620.00  13620.00  13608.49  13608.49   20.812754   \n",
       "2018-01-01 00:01:00  13607.14  13607.14  13601.66  13601.66   13.474359   \n",
       "2018-01-01 00:02:00  13601.44  13601.44  13580.00   13580.0   11.536360   \n",
       "2018-01-01 00:03:00  13587.31  13587.31  13542.70  13550.34   16.328039   \n",
       "2018-01-01 00:04:00  13550.34  13585.95  13550.34  13583.44    9.955364   \n",
       "\n",
       "                       USD Volume  Weighted Price  \n",
       "Timestamp                                          \n",
       "2018-01-01 00:00:00  283451.08537    13619.105106  \n",
       "2018-01-01 00:01:00  183283.97801    13602.426919  \n",
       "2018-01-01 00:02:00  156789.19686    13590.872506  \n",
       "2018-01-01 00:03:00  221413.64182    13560.332806  \n",
       "2018-01-01 00:04:00  135141.26944    13574.719401  "
      ]
     },
     "execution_count": 12,
     "metadata": {},
     "output_type": "execute_result"
    }
   ],
   "source": [
    "# Use str.replace() to remove all of the '$' from the \"Close\" column\n",
    "coinbase.loc[:, \"Close\"] = coinbase.loc[:, \"Close\"].str.replace(\"$\", \"\")\n",
    "# Use pandas head() function to confirm changes\n",
    "coinbase.head()"
   ]
  },
  {
   "cell_type": "code",
   "execution_count": 13,
   "metadata": {},
   "outputs": [
    {
     "data": {
      "text/plain": [
       "dtype('float64')"
      ]
     },
     "execution_count": 13,
     "metadata": {},
     "output_type": "execute_result"
    }
   ],
   "source": [
    "# Convert the coinbase 'Close' column in to the type of 'float' by using astype()\n",
    "coinbase.loc[:, \"Close\"] = coinbase.loc[:, \"Close\"].astype(\"float\")\n",
    "# Use dtypes to confirm the changes made\n",
    "coinbase.loc[:, \"Close\"].dtypes"
   ]
  },
  {
   "cell_type": "code",
   "execution_count": 14,
   "metadata": {},
   "outputs": [
    {
     "data": {
      "text/plain": [
       "59194"
      ]
     },
     "execution_count": 14,
     "metadata": {},
     "output_type": "execute_result"
    }
   ],
   "source": [
    "# Checking to see how many duplicated values in 'Close' for coinbase DF\n",
    "coinbase.loc[:, \"Close\"].duplicated().sum()"
   ]
  },
  {
   "cell_type": "markdown",
   "metadata": {},
   "source": [
    "## Analyze the Data\n",
    "\n",
    "Your analysis consists of the following tasks: \n",
    "\n",
    "1. Choose the columns of data on which to focus your analysis.\n",
    "\n",
    "2. Get the summary statistics and plot the data.\n",
    "\n",
    "3. Focus your analysis on specific dates.\n",
    "\n",
    "4. Calculate the arbitrage profits."
   ]
  },
  {
   "cell_type": "markdown",
   "metadata": {},
   "source": [
    "### Step 1: Choose columns of data on which to focus your analysis.\n",
    "\n",
    "Select the data you want to analyze. Use `loc` or `iloc` to select the following columns of data for both the bitstamp and coinbase DataFrames:\n",
    "\n",
    "* Timestamp (index)\n",
    "\n",
    "* Close\n"
   ]
  },
  {
   "cell_type": "code",
   "execution_count": 19,
   "metadata": {},
   "outputs": [
    {
     "data": {
      "text/plain": [
       "Timestamp\n",
       "2018-01-01 00:00:00    13646.48\n",
       "2018-01-01 00:01:00    13658.75\n",
       "2018-01-01 00:02:00    13610.22\n",
       "2018-01-01 00:03:00    13639.09\n",
       "2018-01-01 00:04:00    13620.00\n",
       "Name: Close, dtype: float64"
      ]
     },
     "execution_count": 19,
     "metadata": {},
     "output_type": "execute_result"
    }
   ],
   "source": [
    "# Use loc or iloc to select `Timestamp (the index)` and `Close` from bitstamp DataFrame\n",
    "bitstamp_sliced = bitstamp.loc[:, \"Close\"]\n",
    "\n",
    "# Review the first five rows of the DataFrame\n",
    "bitstamp_sliced.head()"
   ]
  },
  {
   "cell_type": "code",
   "execution_count": 20,
   "metadata": {},
   "outputs": [
    {
     "data": {
      "text/plain": [
       "Timestamp\n",
       "2018-01-01 00:00:00    13608.49\n",
       "2018-01-01 00:01:00    13601.66\n",
       "2018-01-01 00:02:00    13580.00\n",
       "2018-01-01 00:03:00    13550.34\n",
       "2018-01-01 00:04:00    13583.44\n",
       "Name: Close, dtype: float64"
      ]
     },
     "execution_count": 20,
     "metadata": {},
     "output_type": "execute_result"
    }
   ],
   "source": [
    "# Use loc or iloc to select `Timestamp (the index)` and `Close` from coinbase DataFrame\n",
    "coinbase_sliced = coinbase.loc[:, \"Close\"]\n",
    "\n",
    "# Review the first five rows of the DataFrame\n",
    "coinbase_sliced.head()"
   ]
  },
  {
   "cell_type": "markdown",
   "metadata": {},
   "source": [
    "### Step 2: Get summary statistics and plot the data.\n",
    "\n",
    "Sort through the time series data associated with the bitstamp and coinbase DataFrames to identify potential arbitrage opportunities. To do so, complete the following steps:\n",
    "\n",
    "1. Generate the summary statistics for each DataFrame by using the `describe` function.\n",
    "\n",
    "2. For each DataFrame, create a line plot for the full period of time in the dataset. Be sure to tailor the figure size, title, and color to each visualization.\n",
    "\n",
    "3. In one plot, overlay the visualizations that you created in Step 2 for bitstamp and coinbase. Be sure to adjust the legend and title for this new visualization.\n",
    "\n",
    "4. Using the `loc` and `plot` functions, plot the price action of the assets on each exchange for different dates and times. Your goal is to evaluate how the spread between the two exchanges changed across the time period that the datasets define. Did the degree of spread change as time progressed?"
   ]
  },
  {
   "cell_type": "code",
   "execution_count": 21,
   "metadata": {},
   "outputs": [
    {
     "data": {
      "text/html": [
       "<div>\n",
       "<style scoped>\n",
       "    .dataframe tbody tr th:only-of-type {\n",
       "        vertical-align: middle;\n",
       "    }\n",
       "\n",
       "    .dataframe tbody tr th {\n",
       "        vertical-align: top;\n",
       "    }\n",
       "\n",
       "    .dataframe thead th {\n",
       "        text-align: right;\n",
       "    }\n",
       "</style>\n",
       "<table border=\"1\" class=\"dataframe\">\n",
       "  <thead>\n",
       "    <tr style=\"text-align: right;\">\n",
       "      <th></th>\n",
       "      <th>Open</th>\n",
       "      <th>High</th>\n",
       "      <th>Low</th>\n",
       "      <th>Close</th>\n",
       "      <th>BTC Volume</th>\n",
       "      <th>USD Volume</th>\n",
       "      <th>Weighted Price</th>\n",
       "    </tr>\n",
       "  </thead>\n",
       "  <tbody>\n",
       "    <tr>\n",
       "      <th>count</th>\n",
       "      <td>129067.000000</td>\n",
       "      <td>129067.000000</td>\n",
       "      <td>129067.000000</td>\n",
       "      <td>129067.000000</td>\n",
       "      <td>129067.000000</td>\n",
       "      <td>1.290670e+05</td>\n",
       "      <td>129067.000000</td>\n",
       "    </tr>\n",
       "    <tr>\n",
       "      <th>mean</th>\n",
       "      <td>10459.993683</td>\n",
       "      <td>10472.970114</td>\n",
       "      <td>10446.214703</td>\n",
       "      <td>10459.842453</td>\n",
       "      <td>11.792878</td>\n",
       "      <td>1.177496e+05</td>\n",
       "      <td>10459.384448</td>\n",
       "    </tr>\n",
       "    <tr>\n",
       "      <th>std</th>\n",
       "      <td>2315.909269</td>\n",
       "      <td>2318.929342</td>\n",
       "      <td>2312.331601</td>\n",
       "      <td>2315.976088</td>\n",
       "      <td>21.799938</td>\n",
       "      <td>2.070551e+05</td>\n",
       "      <td>2315.723480</td>\n",
       "    </tr>\n",
       "    <tr>\n",
       "      <th>min</th>\n",
       "      <td>5945.950000</td>\n",
       "      <td>5975.060000</td>\n",
       "      <td>5920.720000</td>\n",
       "      <td>5944.000000</td>\n",
       "      <td>0.000039</td>\n",
       "      <td>3.333436e-01</td>\n",
       "      <td>5949.997212</td>\n",
       "    </tr>\n",
       "    <tr>\n",
       "      <th>25%</th>\n",
       "      <td>8613.985000</td>\n",
       "      <td>8621.655000</td>\n",
       "      <td>8604.440000</td>\n",
       "      <td>8613.370000</td>\n",
       "      <td>1.711874</td>\n",
       "      <td>1.773244e+04</td>\n",
       "      <td>8613.587020</td>\n",
       "    </tr>\n",
       "    <tr>\n",
       "      <th>50%</th>\n",
       "      <td>10145.300000</td>\n",
       "      <td>10156.410000</td>\n",
       "      <td>10131.740000</td>\n",
       "      <td>10145.950000</td>\n",
       "      <td>4.994095</td>\n",
       "      <td>5.188050e+04</td>\n",
       "      <td>10144.740411</td>\n",
       "    </tr>\n",
       "    <tr>\n",
       "      <th>75%</th>\n",
       "      <td>11444.455000</td>\n",
       "      <td>11453.990000</td>\n",
       "      <td>11431.970000</td>\n",
       "      <td>11444.810000</td>\n",
       "      <td>12.717950</td>\n",
       "      <td>1.313104e+05</td>\n",
       "      <td>11443.791560</td>\n",
       "    </tr>\n",
       "    <tr>\n",
       "      <th>max</th>\n",
       "      <td>17234.980000</td>\n",
       "      <td>17234.990000</td>\n",
       "      <td>17214.960000</td>\n",
       "      <td>17234.980000</td>\n",
       "      <td>580.646391</td>\n",
       "      <td>5.483271e+06</td>\n",
       "      <td>17227.810502</td>\n",
       "    </tr>\n",
       "  </tbody>\n",
       "</table>\n",
       "</div>"
      ],
      "text/plain": [
       "                Open           High            Low          Close  \\\n",
       "count  129067.000000  129067.000000  129067.000000  129067.000000   \n",
       "mean    10459.993683   10472.970114   10446.214703   10459.842453   \n",
       "std      2315.909269    2318.929342    2312.331601    2315.976088   \n",
       "min      5945.950000    5975.060000    5920.720000    5944.000000   \n",
       "25%      8613.985000    8621.655000    8604.440000    8613.370000   \n",
       "50%     10145.300000   10156.410000   10131.740000   10145.950000   \n",
       "75%     11444.455000   11453.990000   11431.970000   11444.810000   \n",
       "max     17234.980000   17234.990000   17214.960000   17234.980000   \n",
       "\n",
       "          BTC Volume    USD Volume  Weighted Price  \n",
       "count  129067.000000  1.290670e+05   129067.000000  \n",
       "mean       11.792878  1.177496e+05    10459.384448  \n",
       "std        21.799938  2.070551e+05     2315.723480  \n",
       "min         0.000039  3.333436e-01     5949.997212  \n",
       "25%         1.711874  1.773244e+04     8613.587020  \n",
       "50%         4.994095  5.188050e+04    10144.740411  \n",
       "75%        12.717950  1.313104e+05    11443.791560  \n",
       "max       580.646391  5.483271e+06    17227.810502  "
      ]
     },
     "execution_count": 21,
     "metadata": {},
     "output_type": "execute_result"
    }
   ],
   "source": [
    "# Generate the summary statistics for the bitstamp DataFrame\n",
    "bitstamp.describe()"
   ]
  },
  {
   "cell_type": "code",
   "execution_count": 22,
   "metadata": {},
   "outputs": [
    {
     "data": {
      "text/html": [
       "<div>\n",
       "<style scoped>\n",
       "    .dataframe tbody tr th:only-of-type {\n",
       "        vertical-align: middle;\n",
       "    }\n",
       "\n",
       "    .dataframe tbody tr th {\n",
       "        vertical-align: top;\n",
       "    }\n",
       "\n",
       "    .dataframe thead th {\n",
       "        text-align: right;\n",
       "    }\n",
       "</style>\n",
       "<table border=\"1\" class=\"dataframe\">\n",
       "  <thead>\n",
       "    <tr style=\"text-align: right;\">\n",
       "      <th></th>\n",
       "      <th>Open</th>\n",
       "      <th>High</th>\n",
       "      <th>Low</th>\n",
       "      <th>Close</th>\n",
       "      <th>BTC Volume</th>\n",
       "      <th>USD Volume</th>\n",
       "      <th>Weighted Price</th>\n",
       "    </tr>\n",
       "  </thead>\n",
       "  <tbody>\n",
       "    <tr>\n",
       "      <th>count</th>\n",
       "      <td>129322.000000</td>\n",
       "      <td>129322.000000</td>\n",
       "      <td>129322.000000</td>\n",
       "      <td>129322.000000</td>\n",
       "      <td>129322.000000</td>\n",
       "      <td>1.293220e+05</td>\n",
       "      <td>129322.000000</td>\n",
       "    </tr>\n",
       "    <tr>\n",
       "      <th>mean</th>\n",
       "      <td>10449.213185</td>\n",
       "      <td>10456.118514</td>\n",
       "      <td>10441.872248</td>\n",
       "      <td>10449.140958</td>\n",
       "      <td>15.666556</td>\n",
       "      <td>1.572565e+05</td>\n",
       "      <td>10448.964130</td>\n",
       "    </tr>\n",
       "    <tr>\n",
       "      <th>std</th>\n",
       "      <td>2317.194653</td>\n",
       "      <td>2317.710389</td>\n",
       "      <td>2316.570594</td>\n",
       "      <td>2317.197419</td>\n",
       "      <td>27.481647</td>\n",
       "      <td>2.667879e+05</td>\n",
       "      <td>2317.167139</td>\n",
       "    </tr>\n",
       "    <tr>\n",
       "      <th>min</th>\n",
       "      <td>5882.300000</td>\n",
       "      <td>5907.280000</td>\n",
       "      <td>5873.000000</td>\n",
       "      <td>5882.310000</td>\n",
       "      <td>0.000442</td>\n",
       "      <td>6.699174e+00</td>\n",
       "      <td>5883.394912</td>\n",
       "    </tr>\n",
       "    <tr>\n",
       "      <th>25%</th>\n",
       "      <td>8609.230000</td>\n",
       "      <td>8613.872500</td>\n",
       "      <td>8603.505000</td>\n",
       "      <td>8609.230000</td>\n",
       "      <td>2.999125</td>\n",
       "      <td>3.071222e+04</td>\n",
       "      <td>8609.135020</td>\n",
       "    </tr>\n",
       "    <tr>\n",
       "      <th>50%</th>\n",
       "      <td>10137.440000</td>\n",
       "      <td>10145.900000</td>\n",
       "      <td>10127.880000</td>\n",
       "      <td>10137.440000</td>\n",
       "      <td>7.092572</td>\n",
       "      <td>7.461366e+04</td>\n",
       "      <td>10136.035004</td>\n",
       "    </tr>\n",
       "    <tr>\n",
       "      <th>75%</th>\n",
       "      <td>11397.522500</td>\n",
       "      <td>11400.000000</td>\n",
       "      <td>11390.000000</td>\n",
       "      <td>11397.237500</td>\n",
       "      <td>16.954279</td>\n",
       "      <td>1.754530e+05</td>\n",
       "      <td>11396.970843</td>\n",
       "    </tr>\n",
       "    <tr>\n",
       "      <th>max</th>\n",
       "      <td>17178.000000</td>\n",
       "      <td>17178.000000</td>\n",
       "      <td>17177.990000</td>\n",
       "      <td>17177.990000</td>\n",
       "      <td>959.084903</td>\n",
       "      <td>1.152334e+07</td>\n",
       "      <td>17177.995495</td>\n",
       "    </tr>\n",
       "  </tbody>\n",
       "</table>\n",
       "</div>"
      ],
      "text/plain": [
       "                Open           High            Low          Close  \\\n",
       "count  129322.000000  129322.000000  129322.000000  129322.000000   \n",
       "mean    10449.213185   10456.118514   10441.872248   10449.140958   \n",
       "std      2317.194653    2317.710389    2316.570594    2317.197419   \n",
       "min      5882.300000    5907.280000    5873.000000    5882.310000   \n",
       "25%      8609.230000    8613.872500    8603.505000    8609.230000   \n",
       "50%     10137.440000   10145.900000   10127.880000   10137.440000   \n",
       "75%     11397.522500   11400.000000   11390.000000   11397.237500   \n",
       "max     17178.000000   17178.000000   17177.990000   17177.990000   \n",
       "\n",
       "          BTC Volume    USD Volume  Weighted Price  \n",
       "count  129322.000000  1.293220e+05   129322.000000  \n",
       "mean       15.666556  1.572565e+05    10448.964130  \n",
       "std        27.481647  2.667879e+05     2317.167139  \n",
       "min         0.000442  6.699174e+00     5883.394912  \n",
       "25%         2.999125  3.071222e+04     8609.135020  \n",
       "50%         7.092572  7.461366e+04    10136.035004  \n",
       "75%        16.954279  1.754530e+05    11396.970843  \n",
       "max       959.084903  1.152334e+07    17177.995495  "
      ]
     },
     "execution_count": 22,
     "metadata": {},
     "output_type": "execute_result"
    }
   ],
   "source": [
    "# Generate the summary statistics for the coinbase DataFrame\n",
    "coinbase.describe()"
   ]
  },
  {
   "cell_type": "code",
   "execution_count": 23,
   "metadata": {},
   "outputs": [
    {
     "data": {
      "text/plain": [
       "<AxesSubplot:title={'center':'Bitstamp Plot'}, xlabel='Timestamp'>"
      ]
     },
     "execution_count": 23,
     "metadata": {},
     "output_type": "execute_result"
    },
    {
     "data": {
      "image/png": "[encoded data removed]",
      "text/plain": [
       "<Figure size 1080x720 with 1 Axes>"
      ]
     },
     "metadata": {
      "needs_background": "light"
     },
     "output_type": "display_data"
    }
   ],
   "source": [
    "# Create a line plot for the bitstamp DataFrame for the full length of time in the dataset \n",
    "# Be sure that the figure size, title, and color are tailored to each visualization\n",
    "bitstamp.plot(figsize=(15,10), title=\"Bitstamp Plot\", color=\"blue\")"
   ]
  },
  {
   "cell_type": "code",
   "execution_count": 24,
   "metadata": {},
   "outputs": [
    {
     "data": {
      "text/plain": [
       "<AxesSubplot:title={'center':'Coinbase Plot'}, xlabel='Timestamp'>"
      ]
     },
     "execution_count": 24,
     "metadata": {},
     "output_type": "execute_result"
    },
    {
     "data": {
      "image/png": "[encoded data removed]",
      "text/plain": [
       "<Figure size 1080x720 with 1 Axes>"
      ]
     },
     "metadata": {
      "needs_background": "light"
     },
     "output_type": "display_data"
    }
   ],
   "source": [
    "# Create a line plot for the coinbase DataFrame for the full length of time in the dataset \n",
    "# Be sure that the figure size, title, and color are tailored to each visualization\n",
    "coinbase.plot(figsize=(15,10), title=\"Coinbase Plot\", color=\"orange\")"
   ]
  },
  {
   "cell_type": "code",
   "execution_count": 25,
   "metadata": {},
   "outputs": [
    {
     "data": {
      "text/plain": [
       "<AxesSubplot:title={'center':'Bitstamp vs Coinbase'}, xlabel='Timestamp'>"
      ]
     },
     "execution_count": 25,
     "metadata": {},
     "output_type": "execute_result"
    },
    {
     "data": {
      "image/png": "[encoded data removed]",
      "text/plain": [
       "<Figure size 1080x720 with 1 Axes>"
      ]
     },
     "metadata": {
      "needs_background": "light"
     },
     "output_type": "display_data"
    }
   ],
   "source": [
    "# Overlay the visualizations for the bitstamp and coinbase DataFrames in one plot\n",
    "# The plot should visualize the prices over the full lenth of the dataset\n",
    "# Be sure to include the parameters: legend, figure size, title, and color and label\n",
    "bitstamp[\"Close\"].plot(legend=True, figsize=(15,10), title=\"Bitstamp vs Coinbase\", color=\"blue\", label=\"Bitstamp\")\n",
    "\n",
    "# Coinbase plot for the overlay\n",
    "coinbase[\"Close\"].plot(legend=True, figsize=(15,10), color=\"orange\", label=\"Coinbase\")"
   ]
  },
  {
   "cell_type": "code",
   "execution_count": 27,
   "metadata": {},
   "outputs": [
    {
     "data": {
      "text/plain": [
       "<AxesSubplot:title={'center':'January 2015 Comparison'}, xlabel='Timestamp'>"
      ]
     },
     "execution_count": 27,
     "metadata": {},
     "output_type": "execute_result"
    },
    {
     "data": {
      "image/png": "[encoded data removed]",
      "text/plain": [
       "<Figure size 1080x720 with 1 Axes>"
      ]
     },
     "metadata": {
      "needs_background": "light"
     },
     "output_type": "display_data"
    }
   ],
   "source": [
    "# Using the loc and plot functions, create an overlay plot that visualizes \n",
    "# the price action of both DataFrames for a one month period early in the dataset\n",
    "# Be sure to include the parameters: legend, figure size, title, and color and label\n",
    "bitstamp[\"Close\"].loc[\"2018-01-01\":\"2018-01-31\"].plot(legend=True, figsize=(15,10), title=\"January 2015 Comparison\", color=\"blue\", label=\"Bitstamp\")\n",
    "\n",
    "# The Coinbase plot for the overlay\n",
    "coinbase[\"Close\"].loc[\"2018-01-01\":\"2018-01-31\"].plot(legend=True, figsize=(15,10), color=\"orange\", label=\"Coinbase\")"
   ]
  },
  {
   "cell_type": "code",
   "execution_count": null,
   "metadata": {},
   "outputs": [],
   "source": [
    "# Using the loc and plot functions, create an overlay plot that visualizes \n",
    "# the price action of both DataFrames for a one month period later in the dataset\n",
    "# Be sure to include the parameters: legend, figure size, title, and color and label \n",
    "# YOUR CODE HERE"
   ]
  },
  {
   "cell_type": "markdown",
   "metadata": {},
   "source": [
    "**Question** Based on the visualizations of the different time periods, has the degree of spread change as time progressed?\n",
    "\n",
    "**Answer** YOUR ANSWER HERE"
   ]
  },
  {
   "cell_type": "markdown",
   "metadata": {},
   "source": [
    "### Step 3: Focus Your Analysis on Specific Dates\n",
    "\n",
    "Focus your analysis on specific dates by completing the following steps:\n",
    "\n",
    "1. Select three dates to evaluate for arbitrage profitability. Choose one date that’s early in the dataset, one from the middle of the dataset, and one from the later part of the time period.\n",
    "\n",
    "2. For each of the three dates, generate the summary statistics and then create a box plot. This big-picture view is meant to help you gain a better understanding of the data before you perform your arbitrage calculations. As you compare the data, what conclusions can you draw?"
   ]
  },
  {
   "cell_type": "code",
   "execution_count": null,
   "metadata": {},
   "outputs": [],
   "source": [
    "# Create an overlay plot that visualizes the two dataframes over a period of one day early in the dataset. \n",
    "# Be sure that the plots include the parameters `legend`, `figsize`, `title`, `color` and `label` \n",
    "# YOUR CODE HERE"
   ]
  },
  {
   "cell_type": "code",
   "execution_count": null,
   "metadata": {
    "tags": []
   },
   "outputs": [],
   "source": [
    "# Using the early date that you have selected, calculate the arbitrage spread \n",
    "# by subtracting the bitstamp lower closing prices from the coinbase higher closing prices\n",
    "arbitrage_spread_early = # YOUR CODE HERE\n",
    "\n",
    "# Generate summary statistics for the early DataFrame\n",
    "# YOUR CODE HERE"
   ]
  },
  {
   "cell_type": "code",
   "execution_count": null,
   "metadata": {},
   "outputs": [],
   "source": [
    "# Visualize the arbitrage spread from early in the dataset in a box plot\n",
    "# YOUR CODE HERE"
   ]
  },
  {
   "cell_type": "code",
   "execution_count": null,
   "metadata": {},
   "outputs": [],
   "source": [
    "# Create an overlay plot that visualizes the two dataframes over a period of one day from the middle of the dataset. \n",
    "# Be sure that the plots include the parameters `legend`, `figsize`, `title`, `color` and `label` \n",
    "# YOUR CODE HERE"
   ]
  },
  {
   "cell_type": "code",
   "execution_count": null,
   "metadata": {},
   "outputs": [],
   "source": [
    "# Using the date in the middle that you have selected, calculate the arbitrage spread \n",
    "# by subtracting the bitstamp lower closing prices from the coinbase higher closing prices\n",
    "arbitrage_spread_middle = # YOUR CODE HERE\n",
    "\n",
    "# Generate summary statistics \n",
    "# YOUR CODE HERE"
   ]
  },
  {
   "cell_type": "code",
   "execution_count": null,
   "metadata": {},
   "outputs": [],
   "source": [
    "# Visualize the arbitrage spread from the middle of the dataset in a box plot\n",
    "# YOUR CODE HERE"
   ]
  },
  {
   "cell_type": "code",
   "execution_count": null,
   "metadata": {},
   "outputs": [],
   "source": [
    "# Create an overlay plot that visualizes the two dataframes over a period of one day from late in the dataset. \n",
    "# Be sure that the plots include the parameters `legend`, `figsize`, `title`, `color` and `label` \n",
    "# YOUR CODE HERE"
   ]
  },
  {
   "cell_type": "code",
   "execution_count": null,
   "metadata": {},
   "outputs": [],
   "source": [
    "# Using the date from the late that you have selected, calculate the arbitrage spread \n",
    "# by subtracting the bitstamp lower closing prices from the coinbase higher closing prices\n",
    "arbitrage_spread_late = # YOUR CODE HERE\n",
    "\n",
    "# Generate summary statistics for the late DataFrame\n",
    "# YOUR CODE HERE"
   ]
  },
  {
   "cell_type": "code",
   "execution_count": null,
   "metadata": {},
   "outputs": [],
   "source": [
    "# Visualize the arbitrage spread from late in the dataset in a box plot\n",
    "# YOUR CODE HERE"
   ]
  },
  {
   "cell_type": "markdown",
   "metadata": {},
   "source": [
    "### Step 4: Calculate the Arbitrage Profits\n",
    "\n",
    "Calculate the potential profits for each date that you selected in the previous section. Your goal is to determine whether arbitrage opportunities still exist in the Bitcoin market. Complete the following steps:\n",
    "\n",
    "1. For each of the three dates, measure the arbitrage spread between the two exchanges by subtracting the lower-priced exchange from the higher-priced one. Then use a conditional statement to generate the summary statistics for each arbitrage_spread DataFrame, where the spread is greater than zero.\n",
    "\n",
    "2. For each of the three dates, calculate the spread returns. To do so, divide the instances that have a positive arbitrage spread (that is, a spread greater than zero) by the price of Bitcoin from the exchange you’re buying on (that is, the lower-priced exchange). Review the resulting DataFrame.\n",
    "\n",
    "3. For each of the three dates, narrow down your trading opportunities even further. To do so, determine the number of times your trades with positive returns exceed the 1% minimum threshold that you need to cover your costs.\n",
    "\n",
    "4. Generate the summary statistics of your spread returns that are greater than 1%. How do the average returns compare among the three dates?\n",
    "\n",
    "5. For each of the three dates, calculate the potential profit, in dollars, per trade. To do so, multiply the spread returns that were greater than 1% by the cost of what was purchased. Make sure to drop any missing values from the resulting DataFrame.\n",
    "\n",
    "6. Generate the summary statistics, and plot the results for each of the three DataFrames.\n",
    "\n",
    "7. Calculate the potential arbitrage profits that you can make on each day. To do so, sum the elements in the profit_per_trade DataFrame.\n",
    "\n",
    "8. Using the `cumsum` function, plot the cumulative sum of each of the three DataFrames. Can you identify any patterns or trends in the profits across the three time periods?\n",
    "\n",
    "(NOTE: The starter code displays only one date. You'll want to do this analysis for two additional dates)."
   ]
  },
  {
   "cell_type": "markdown",
   "metadata": {},
   "source": [
    "#### 1. For each of the three dates, measure the arbitrage spread between the two exchanges by subtracting the lower-priced exchange from the higher-priced one. Then use a conditional statement to generate the summary statistics for each arbitrage_spread DataFrame, where the spread is greater than zero.\n",
    "\n",
    "*NOTE*: For illustration, only one of the three dates is shown in the starter code below."
   ]
  },
  {
   "cell_type": "code",
   "execution_count": null,
   "metadata": {},
   "outputs": [],
   "source": [
    "# For the date early in the dataset, measure the arbitrage spread between the two exchanges\n",
    "# by subtracting the lower-priced exchange from the higher-priced one\n",
    "arbitrage_spread_early = # YOUR CODE HERE\n",
    "\n",
    "# Use a conditional statement to generate the summary statistics for each arbitrage_spread DataFrame\n",
    "# YOUR CODE HERE"
   ]
  },
  {
   "cell_type": "markdown",
   "metadata": {},
   "source": [
    "#### 2. For each of the three dates, calculate the spread returns. To do so, divide the instances that have a positive arbitrage spread (that is, a spread greater than zero) by the price of Bitcoin from the exchange you’re buying on (that is, the lower-priced exchange). Review the resulting DataFrame."
   ]
  },
  {
   "cell_type": "code",
   "execution_count": null,
   "metadata": {},
   "outputs": [],
   "source": [
    "# For the date early in the dataset, calculate the spread returns by dividing the instances when the arbitrage spread is positive (> 0) \n",
    "# by the price of Bitcoin from the exchange you are buying on (the lower-priced exchange).\n",
    "spread_return_early= # YOUR CODE HERE\n",
    "\n",
    "# Review the spread return DataFrame\n",
    "# YOUR CODE HERE"
   ]
  },
  {
   "cell_type": "markdown",
   "metadata": {},
   "source": [
    "#### 3. For each of the three dates, narrow down your trading opportunities even further. To do so, determine the number of times your trades with positive returns exceed the 1% minimum threshold that you need to cover your costs."
   ]
  },
  {
   "cell_type": "code",
   "execution_count": null,
   "metadata": {},
   "outputs": [],
   "source": [
    "# For the date early in the dataset, determine the number of times your trades with positive returns \n",
    "# exceed the 1% minimum threshold (.01) that you need to cover your costs\n",
    "profitable_trades_early = # YOUR CODE HERE\n",
    "\n",
    "# Review the first five profitable trades\n",
    "# YOUR CODE HERE"
   ]
  },
  {
   "cell_type": "markdown",
   "metadata": {},
   "source": [
    "#### 4. Generate the summary statistics of your spread returns that are greater than 1%. How do the average returns compare among the three dates?"
   ]
  },
  {
   "cell_type": "code",
   "execution_count": null,
   "metadata": {},
   "outputs": [],
   "source": [
    "# For the date early in the dataset, generate the summary statistics for the profitable trades\n",
    "# or you trades where the spread returns are are greater than 1%\n",
    "# YOUR CODE HERE"
   ]
  },
  {
   "cell_type": "markdown",
   "metadata": {},
   "source": [
    "#### 5. For each of the three dates, calculate the potential profit, in dollars, per trade. To do so, multiply the spread returns that were greater than 1% by the cost of what was purchased. Make sure to drop any missing values from the resulting DataFrame."
   ]
  },
  {
   "cell_type": "code",
   "execution_count": null,
   "metadata": {},
   "outputs": [],
   "source": [
    "# For the date early in the dataset, calculate the potential profit per trade in dollars \n",
    "# Multiply the profitable trades by the cost of the Bitcoin that was purchased\n",
    "profit_early = # YOUR CODE HERE\n",
    "\n",
    "# Drop any missing values from the profit DataFrame\n",
    "profit_per_trade_early = # YOUR CODE HERE\n",
    "\n",
    "# View the early profit DataFrame\n",
    "# YOUR CODE HERE"
   ]
  },
  {
   "cell_type": "markdown",
   "metadata": {},
   "source": [
    "#### 6. Generate the summary statistics, and plot the results for each of the three DataFrames."
   ]
  },
  {
   "cell_type": "code",
   "execution_count": null,
   "metadata": {},
   "outputs": [],
   "source": [
    "# Generate the summary statistics for the early profit per trade DataFrame\n",
    "# YOUR CODE HERE"
   ]
  },
  {
   "cell_type": "code",
   "execution_count": null,
   "metadata": {},
   "outputs": [],
   "source": [
    "# Plot the results for the early profit per trade DataFrame\n",
    "# YOUR CODE HERE"
   ]
  },
  {
   "cell_type": "markdown",
   "metadata": {},
   "source": [
    "#### 7. Calculate the potential arbitrage profits that you can make on each day. To do so, sum the elements in the profit_per_trade DataFrame."
   ]
  },
  {
   "cell_type": "code",
   "execution_count": null,
   "metadata": {},
   "outputs": [],
   "source": [
    "# Calculate the sum of the potential profits for the early profit per trade DataFrame\n",
    "# YOUR CODE HERE"
   ]
  },
  {
   "cell_type": "markdown",
   "metadata": {},
   "source": [
    "#### 8. Using the `cumsum` function, plot the cumulative sum of each of the three DataFrames. Can you identify any patterns or trends in the profits across the three time periods?"
   ]
  },
  {
   "cell_type": "code",
   "execution_count": null,
   "metadata": {},
   "outputs": [],
   "source": [
    "# Use the cumsum function to calculate the cumulative profits over time for the early profit per trade DataFrame\n",
    "cumulative_profit_early = # YOUR CODE HERE"
   ]
  },
  {
   "cell_type": "code",
   "execution_count": null,
   "metadata": {},
   "outputs": [],
   "source": [
    "# Plot the cumulative sum of profits for the early profit per trade DataFrame\n",
    "# YOUR CODE HERE"
   ]
  },
  {
   "cell_type": "markdown",
   "metadata": {},
   "source": [
    "**Question:** After reviewing the profit information across each date from the different time periods, can you identify any patterns or trends?\n",
    "    \n",
    "**Answer:** YOUR ANSWER HERE"
   ]
  }
 ],
 "metadata": {
  "kernelspec": {
   "display_name": "Python 3",
   "language": "python",
   "name": "python3"
  },
  "language_info": {
   "codemirror_mode": {
    "name": "ipython",
    "version": 3
   },
   "file_extension": ".py",
   "mimetype": "text/x-python",
   "name": "python",
   "nbconvert_exporter": "python",
   "pygments_lexer": "ipython3",
   "version": "3.7.10"
  }
 },
 "nbformat": 4,
 "nbformat_minor": 4
}
